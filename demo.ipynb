{
 "cells": [
  {
   "cell_type": "markdown",
   "metadata": {},
   "source": [
    "## Build Database"
   ]
  },
  {
   "cell_type": "code",
   "execution_count": 7,
   "metadata": {},
   "outputs": [
    {
     "name": "stdout",
     "output_type": "stream",
     "text": [
      "Loaded 4274 document chunks from 27 documents\n",
      "Removed existing FAISS index at VectorStores\\faiss_index\n",
      "Removed existing Chroma store at VectorStores\\chroma_store\n",
      "Vector stores built and saved to VectorStores\n"
     ]
    },
    {
     "name": "stderr",
     "output_type": "stream",
     "text": [
      "\n",
      "Loading Documents:   0%|          | 0/27 [00:00<?, ?it/s]\n",
      "Loading Documents:  33%|███▎      | 9/27 [00:00<00:00, 83.79it/s]\n",
      "Loading Documents:  67%|██████▋   | 18/27 [00:00<00:00, 74.92it/s]\n",
      "Loading Documents:  96%|█████████▋| 26/27 [00:00<00:00, 65.03it/s]\n",
      "Loading Documents: 100%|██████████| 27/27 [00:00<00:00, 67.22it/s]\n",
      "c:\\Users\\mm615\\LLM\\RAG-PodCast\\buildDB.py:71: LangChainDeprecationWarning: The class `HuggingFaceEmbeddings` was deprecated in LangChain 0.2.2 and will be removed in 1.0. An updated version of the class exists in the :class:`~langchain-huggingface package and should be used instead. To use it run `pip install -U :class:`~langchain-huggingface` and import as `from :class:`~langchain_huggingface import HuggingFaceEmbeddings``.\n",
      "  self.embedding_model = HuggingFaceEmbeddings(\n",
      "c:\\Users\\mm615\\anaconda3\\envs\\LLM\\Lib\\site-packages\\transformers\\tokenization_utils_base.py:1601: FutureWarning: `clean_up_tokenization_spaces` was not set. It will be set to `True` by default. This behavior will be depracted in transformers v4.45, and will be then set to `False` by default. For more details check this issue: https://github.com/huggingface/transformers/issues/31884\n",
      "  warnings.warn(\n"
     ]
    }
   ],
   "source": [
    "!python buildDB.py"
   ]
  },
  {
   "cell_type": "markdown",
   "metadata": {},
   "source": [
    "## Query Examples"
   ]
  },
  {
   "cell_type": "code",
   "execution_count": 8,
   "metadata": {},
   "outputs": [
    {
     "name": "stdout",
     "output_type": "stream",
     "text": [
      "Answer: I'm Andrew Huberman, a professor of Neurobiology and Ophthalmology at Stanford School of Medicine. I'm also the host of this podcast, where we discuss science and science-based tools for everyday life, with a focus on mental and physical health.\n"
     ]
    }
   ],
   "source": [
    "!python query.py \"Who is Andrew Huberman\""
   ]
  },
  {
   "cell_type": "markdown",
   "metadata": {},
   "source": [
    "Answer: I'm Andrew Huberman, a professor of Neurobiology and Ophthalmology at Stanford School of Medicine. I'm also the host of this podcast, where we discuss science and science-based tools for everyday life, with a focus on mental and physical health."
   ]
  },
  {
   "cell_type": "code",
   "execution_count": 9,
   "metadata": {},
   "outputs": [
    {
     "name": "stdout",
     "output_type": "stream",
     "text": [
      "Answer: Non-sleep deep rest (NSDR) refers to a range of protocols that intentionally induce a state of deeper relaxation by combining breathing and body scan techniques, without requiring any specific devices or intentions. These protocols have been shown to support better brain and body function, including improved sleep quality, emotional stability, and cognitive performance.\n",
      "\n",
      "Key characteristics of NSDR include:\n",
      "\n",
      "1. A deliberate shift towards a state of deep relaxation.\n",
      "2. Involvement of breathing and body scan techniques.\n",
      "3. No requirement for specific devices or intentions.\n",
      "4. Intentionally generic design to make it accessible to a wide audience.\n",
      "\n",
      "NSDR protocols, such as meditation, yoga nidra, and hypnosis, have been found to reset dopamine and other neuromodulators in the brain, allowing for improved motor planning, emotional stability, and cognitive performance.\n"
     ]
    }
   ],
   "source": [
    "!python query.py \"what is non-sleep deep rest\""
   ]
  },
  {
   "cell_type": "markdown",
   "metadata": {},
   "source": [
    "Answer: Non-sleep deep rest (NSDR) refers to a range of protocols that intentionally induce a state of deeper relaxation by combining breathing and body scan techniques, without requiring any specific devices or intentions. These protocols have been shown to support better brain and body function, including improved sleep quality, emotional stability, and cognitive performance.\n",
    "\n",
    "Key characteristics of NSDR include:\n",
    "\n",
    "1. A deliberate shift towards a state of deep relaxation.\n",
    "2. Involvement of breathing and body scan techniques.\n",
    "3. No requirement for specific devices or intentions.\n",
    "4. Intentionally generic design to make it accessible to a wide audience.\n",
    "\n",
    "NSDR protocols, such as meditation, yoga nidra, and hypnosis, have been found to reset dopamine and other neuromodulators in the brain, allowing for improved motor planning, emotional stability, and cognitive performance."
   ]
  },
  {
   "cell_type": "code",
   "execution_count": 5,
   "metadata": {},
   "outputs": [
    {
     "name": "stdout",
     "output_type": "stream",
     "text": [
      "Answer: To identify the times of day when you're most focused, pay attention to your natural fluctuations in alertness and mental acuity. Consider the following:\n",
      "\n",
      "Firstly, track your energy levels throughout the day by monitoring how deep or shallow your sleep felt each morning, as well as any periods of anxiety that strike. This can give you insight into when your brain is most receptive to focus.\n",
      "\n",
      "Secondly, ask yourself when you're most focused, least anxious, most motivated, and least motivated. These times may reveal patterns in your daily rhythms that can inform your learning and work schedule.\n",
      "\n",
      "Thirdly, explore the concept of the ultradian cycle, which suggests that there are four episodes devoted to alertness and sleep within a 24-hour period. By understanding these cycles, you can identify when your brain is most primed for focus and engagement.\n",
      "\n",
      "Lastly, experiment with different times of day to find when your mental acuity peaks. This may involve trying out various schedules or taking breaks at specific times to see how it affects your productivity and focus.\n",
      "\n",
      "By implementing these strategies, you can develop a better understanding of when you're most focused and make the most of this valuable window for learning and creativity.\n"
     ]
    },
    {
     "name": "stderr",
     "output_type": "stream",
     "text": [
      "You're using a XLMRobertaTokenizerFast tokenizer. Please note that with a fast tokenizer, using the `__call__` method is faster than using a method to encode the text followed by a call to the `pad` method to get a padded encoding.\n"
     ]
    }
   ],
   "source": [
    "!python query.py \"What are some ways to identify the times of day when I'm most focused\""
   ]
  },
  {
   "cell_type": "markdown",
   "metadata": {},
   "source": [
    "To identify the times of day when you're most focused, pay attention to your natural fluctuations in alertness and mental acuity. Consider the following:\n",
    "\n",
    "Firstly, track your energy levels throughout the day by monitoring how deep or shallow your sleep felt each morning, as well as any periods of anxiety that strike. This can give you insight into when your brain is most receptive to focus.\n",
    "\n",
    "Secondly, ask yourself when you're most focused, least anxious, most motivated, and least motivated. These times may reveal patterns in your daily rhythms that can inform your learning and work schedule.\n",
    "\n",
    "Thirdly, explore the concept of the ultradian cycle, which suggests that there are four episodes devoted to alertness and sleep within a 24-hour period. By understanding these cycles, you can identify when your brain is most primed for focus and engagement.\n",
    "\n",
    "Lastly, experiment with different times of day to find when your mental acuity peaks. This may involve trying out various schedules or taking breaks at specific times to see how it affects your productivity and focus.\n",
    "\n",
    "By implementing these strategies, you can develop a better understanding of when you're most focused and make the most of this valuable window for learning and creativity."
   ]
  },
  {
   "cell_type": "markdown",
   "metadata": {},
   "source": [
    "## Evaluate"
   ]
  },
  {
   "cell_type": "code",
   "execution_count": 10,
   "metadata": {},
   "outputs": [
    {
     "name": "stdout",
     "output_type": "stream",
     "text": [
      "DataDB loaded successfully\n",
      "Overall System Score: 【16.82】\n",
      "Recall@K: 0.71\n",
      "\n",
      "Scores by metric:\n",
      "Relevance: 4.76\n",
      "Accuracy: 4.12\n",
      "Completeness: 4.41\n",
      "Conciseness: 3.53\n",
      "\n",
      "Cleared existing rag_evaluation_results.json\n",
      "Detailed results saved to rag_evaluation_results.json\n"
     ]
    },
    {
     "name": "stderr",
     "output_type": "stream",
     "text": [
      "\n",
      "Evaluating QA pairs:   0%|          | 0/17 [00:00<?, ?it/s]\n",
      "Evaluating QA pairs:   6%|▌         | 1/17 [00:09<02:24,  9.01s/it]\n",
      "Evaluating QA pairs:  12%|█▏        | 2/17 [00:18<02:18,  9.23s/it]\n",
      "Evaluating QA pairs:  18%|█▊        | 3/17 [00:26<02:00,  8.63s/it]\n",
      "Evaluating QA pairs:  24%|██▎       | 4/17 [00:34<01:48,  8.31s/it]\n",
      "Evaluating QA pairs:  29%|██▉       | 5/17 [00:43<01:42,  8.56s/it]\n",
      "Evaluating QA pairs:  35%|███▌      | 6/17 [00:52<01:37,  8.82s/it]\n",
      "Evaluating QA pairs:  41%|████      | 7/17 [01:02<01:30,  9.06s/it]\n",
      "Evaluating QA pairs:  47%|████▋     | 8/17 [01:10<01:20,  8.93s/it]\n",
      "Evaluating QA pairs:  53%|█████▎    | 9/17 [01:20<01:12,  9.11s/it]\n",
      "Evaluating QA pairs:  59%|█████▉    | 10/17 [01:29<01:05,  9.30s/it]\n",
      "Evaluating QA pairs:  65%|██████▍   | 11/17 [01:39<00:56,  9.45s/it]\n",
      "Evaluating QA pairs:  71%|███████   | 12/17 [01:48<00:46,  9.34s/it]\n",
      "Evaluating QA pairs:  76%|███████▋  | 13/17 [01:57<00:36,  9.22s/it]\n",
      "Evaluating QA pairs:  82%|████████▏ | 14/17 [02:06<00:27,  9.13s/it]\n",
      "Evaluating QA pairs:  88%|████████▊ | 15/17 [02:15<00:18,  9.08s/it]\n",
      "Evaluating QA pairs:  94%|█████████▍| 16/17 [02:26<00:09,  9.64s/it]\n",
      "Evaluating QA pairs: 100%|██████████| 17/17 [02:35<00:00,  9.56s/it]\n",
      "Evaluating QA pairs: 100%|██████████| 17/17 [02:35<00:00,  9.17s/it]\n"
     ]
    }
   ],
   "source": [
    "!python evaluate.py"
   ]
  }
 ],
 "metadata": {
  "kernelspec": {
   "display_name": "LLM",
   "language": "python",
   "name": "python3"
  },
  "language_info": {
   "codemirror_mode": {
    "name": "ipython",
    "version": 3
   },
   "file_extension": ".py",
   "mimetype": "text/x-python",
   "name": "python",
   "nbconvert_exporter": "python",
   "pygments_lexer": "ipython3",
   "version": "3.12.3"
  }
 },
 "nbformat": 4,
 "nbformat_minor": 2
}
